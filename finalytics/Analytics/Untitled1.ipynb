{
 "cells": [
  {
   "cell_type": "code",
   "execution_count": 1,
   "id": "27e42946",
   "metadata": {},
   "outputs": [
    {
     "ename": "ModuleNotFoundError",
     "evalue": "No module named 'Elements'",
     "output_type": "error",
     "traceback": [
      "\u001b[1;31m---------------------------------------------------------------------------\u001b[0m",
      "\u001b[1;31mModuleNotFoundError\u001b[0m                       Traceback (most recent call last)",
      "\u001b[1;32m<ipython-input-1-9714229a4286>\u001b[0m in \u001b[0;36m<module>\u001b[1;34m\u001b[0m\n\u001b[1;32m----> 1\u001b[1;33m \u001b[1;32mfrom\u001b[0m \u001b[0mElements\u001b[0m \u001b[1;32mimport\u001b[0m \u001b[0mPortfolio\u001b[0m\u001b[1;33m,\u001b[0m\u001b[0mStock\u001b[0m\u001b[1;33m\u001b[0m\u001b[1;33m\u001b[0m\u001b[0m\n\u001b[0m\u001b[0;32m      2\u001b[0m \u001b[1;31m#All necessary plotly libraries\u001b[0m\u001b[1;33m\u001b[0m\u001b[1;33m\u001b[0m\u001b[1;33m\u001b[0m\u001b[0m\n\u001b[0;32m      3\u001b[0m \u001b[1;32mimport\u001b[0m \u001b[0mplotly\u001b[0m \u001b[1;32mas\u001b[0m \u001b[0mpy\u001b[0m\u001b[1;33m\u001b[0m\u001b[1;33m\u001b[0m\u001b[0m\n\u001b[0;32m      4\u001b[0m \u001b[1;32mimport\u001b[0m \u001b[0mplotly\u001b[0m\u001b[1;33m.\u001b[0m\u001b[0mio\u001b[0m \u001b[1;32mas\u001b[0m \u001b[0mpio\u001b[0m\u001b[1;33m\u001b[0m\u001b[1;33m\u001b[0m\u001b[0m\n\u001b[0;32m      5\u001b[0m \u001b[1;32mimport\u001b[0m \u001b[0mplotly\u001b[0m\u001b[1;33m.\u001b[0m\u001b[0mgraph_objects\u001b[0m \u001b[1;32mas\u001b[0m \u001b[0mgo\u001b[0m\u001b[1;33m\u001b[0m\u001b[1;33m\u001b[0m\u001b[0m\n",
      "\u001b[1;31mModuleNotFoundError\u001b[0m: No module named 'Elements'"
     ]
    }
   ],
   "source": [
    "from Elements import Portfolio,Stock\n",
    "#All necessary plotly libraries\n",
    "import plotly as py\n",
    "import plotly.io as pio\n",
    "import plotly.graph_objects as go\n",
    "import plotly.express as px\n",
    "from plotly.subplots import make_subplots\n",
    "from plotly.offline import download_plotlyjs, init_notebook_mode, plot, iplot"
   ]
  },
  {
   "cell_type": "code",
   "execution_count": 2,
   "id": "246b8890",
   "metadata": {},
   "outputs": [
    {
     "name": "stdout",
     "output_type": "stream",
     "text": [
      "prices about AAPL downloaded successfully\n"
     ]
    },
    {
     "name": "stderr",
     "output_type": "stream",
     "text": [
      "2022-10-03 01:46:25.970 INFO    numexpr.utils: NumExpr defaulting to 8 threads.\n"
     ]
    },
    {
     "name": "stdout",
     "output_type": "stream",
     "text": [
      "prices about BND downloaded successfully\n",
      "prices about VB downloaded successfully\n",
      "prices about VEA downloaded successfully\n",
      "prices about VOO downloaded successfully\n"
     ]
    }
   ],
   "source": [
    "stocks = ['AAPL','BND','VB','VEA','VOO']\n",
    "portfolio = Portfolio(stocks)\n",
    "start = '2013-01-01'\n",
    "end = '2018-03-01'\n",
    "timeframe = 'daily'\n",
    "portfolio.makeStocks(start,end,timeframe)"
   ]
  },
  {
   "cell_type": "code",
   "execution_count": 3,
   "id": "cbf5320a",
   "metadata": {},
   "outputs": [],
   "source": [
    "portfolio.calculateReturns([0.2,0.3,0.1,0.2,0.2])"
   ]
  },
  {
   "cell_type": "code",
   "execution_count": 4,
   "id": "d4947868",
   "metadata": {},
   "outputs": [
    {
     "data": {
      "text/plain": [
       "Date\n",
       "2013-01-02    0.000000\n",
       "2013-01-03   -0.005668\n",
       "2013-01-04   -0.002380\n",
       "2013-01-07   -0.003237\n",
       "2013-01-08   -0.001036\n",
       "                ...   \n",
       "2018-02-22    0.003080\n",
       "2018-02-23    0.010845\n",
       "2018-02-26    0.008500\n",
       "2018-02-27   -0.008285\n",
       "2018-02-28   -0.005412\n",
       "Length: 1299, dtype: float64"
      ]
     },
     "execution_count": 4,
     "metadata": {},
     "output_type": "execute_result"
    }
   ],
   "source": [
    "portfolio.returns"
   ]
  },
  {
   "cell_type": "code",
   "execution_count": null,
   "id": "c9f4a94f",
   "metadata": {},
   "outputs": [],
   "source": []
  }
 ],
 "metadata": {
  "kernelspec": {
   "display_name": "Python 3",
   "language": "python",
   "name": "python3"
  },
  "language_info": {
   "codemirror_mode": {
    "name": "ipython",
    "version": 3
   },
   "file_extension": ".py",
   "mimetype": "text/x-python",
   "name": "python",
   "nbconvert_exporter": "python",
   "pygments_lexer": "ipython3",
   "version": "3.8.8"
  },
  "vscode": {
   "interpreter": {
    "hash": "640e79c96ed931a3508c07e0586b02d36c4b4ceb5059d3c1e38a376e3783f58a"
   }
  }
 },
 "nbformat": 4,
 "nbformat_minor": 5
}
